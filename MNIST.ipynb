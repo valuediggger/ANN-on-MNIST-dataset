{
  "nbformat": 4,
  "nbformat_minor": 0,
  "metadata": {
    "colab": {
      "name": "MNIST.ipynb",
      "provenance": []
    },
    "kernelspec": {
      "name": "python3",
      "display_name": "Python 3"
    },
    "language_info": {
      "name": "python"
    },
    "accelerator": "GPU"
  },
  "cells": [
    {
      "cell_type": "code",
      "metadata": {
        "id": "ozXoY3zFKsAo"
      },
      "source": [
        "import numpy as np\n",
        "import pandas as pd"
      ],
      "execution_count": 1,
      "outputs": []
    },
    {
      "cell_type": "code",
      "metadata": {
        "id": "ejaMc5fLKxFy"
      },
      "source": [
        "from keras.layers import Conv2D, Activation, MaxPool2D, Flatten, Dense\n",
        "from keras.models import Sequential"
      ],
      "execution_count": 2,
      "outputs": []
    },
    {
      "cell_type": "code",
      "metadata": {
        "id": "1StJb0JRLFTJ"
      },
      "source": [
        "img_shape = (28,28,1)\n",
        "model = Sequential()\n",
        "model.add(Conv2D(6,3,input_shape=img_shape))\n",
        "model.add(Activation('relu'))\n",
        "model.add(MaxPool2D(2))\n",
        "model.add(Conv2D(12,3))\n",
        "model.add(Activation('relu'))\n",
        "\n",
        "model.add(MaxPool2D(2))\n",
        "\n",
        "model.add(Flatten())\n",
        "\n",
        "model.add(Dense(10))\n",
        "\n",
        "model.add(Activation('softmax'))"
      ],
      "execution_count": 3,
      "outputs": []
    },
    {
      "cell_type": "code",
      "metadata": {
        "colab": {
          "base_uri": "https://localhost:8080/"
        },
        "id": "KLbVVp82MKe3",
        "outputId": "b41e67d1-39ed-4a5c-d234-c5ca1a7f90bc"
      },
      "source": [
        "model.summary()"
      ],
      "execution_count": 4,
      "outputs": [
        {
          "output_type": "stream",
          "name": "stdout",
          "text": [
            "Model: \"sequential\"\n",
            "_________________________________________________________________\n",
            "Layer (type)                 Output Shape              Param #   \n",
            "=================================================================\n",
            "conv2d (Conv2D)              (None, 26, 26, 6)         60        \n",
            "_________________________________________________________________\n",
            "activation (Activation)      (None, 26, 26, 6)         0         \n",
            "_________________________________________________________________\n",
            "max_pooling2d (MaxPooling2D) (None, 13, 13, 6)         0         \n",
            "_________________________________________________________________\n",
            "conv2d_1 (Conv2D)            (None, 11, 11, 12)        660       \n",
            "_________________________________________________________________\n",
            "activation_1 (Activation)    (None, 11, 11, 12)        0         \n",
            "_________________________________________________________________\n",
            "max_pooling2d_1 (MaxPooling2 (None, 5, 5, 12)          0         \n",
            "_________________________________________________________________\n",
            "flatten (Flatten)            (None, 300)               0         \n",
            "_________________________________________________________________\n",
            "dense (Dense)                (None, 10)                3010      \n",
            "_________________________________________________________________\n",
            "activation_2 (Activation)    (None, 10)                0         \n",
            "=================================================================\n",
            "Total params: 3,730\n",
            "Trainable params: 3,730\n",
            "Non-trainable params: 0\n",
            "_________________________________________________________________\n"
          ]
        }
      ]
    },
    {
      "cell_type": "code",
      "metadata": {
        "id": "bqz_GxiiMnxb"
      },
      "source": [
        "model.compile(loss='sparse_categorical_crossentropy', optimizer = 'adam', metrics=['acc'])"
      ],
      "execution_count": 5,
      "outputs": []
    },
    {
      "cell_type": "code",
      "metadata": {
        "id": "eAkyNcWjMtjJ"
      },
      "source": [
        "from keras.datasets import mnist"
      ],
      "execution_count": 6,
      "outputs": []
    },
    {
      "cell_type": "code",
      "metadata": {
        "colab": {
          "base_uri": "https://localhost:8080/"
        },
        "id": "5VRRtUX_MvJo",
        "outputId": "f00af787-e149-4ff4-f68d-cafd30f9cd7d"
      },
      "source": [
        "(x_train, y_train), (x_test, y_test) = mnist.load_data()"
      ],
      "execution_count": 7,
      "outputs": [
        {
          "output_type": "stream",
          "name": "stdout",
          "text": [
            "Downloading data from https://storage.googleapis.com/tensorflow/tf-keras-datasets/mnist.npz\n",
            "11493376/11490434 [==============================] - 0s 0us/step\n",
            "11501568/11490434 [==============================] - 0s 0us/step\n"
          ]
        }
      ]
    },
    {
      "cell_type": "code",
      "metadata": {
        "colab": {
          "base_uri": "https://localhost:8080/"
        },
        "id": "dmAXLL8cMzuf",
        "outputId": "2a11156a-0650-437f-aea0-e70116661b47"
      },
      "source": [
        "\n",
        "x_train.shape"
      ],
      "execution_count": 8,
      "outputs": [
        {
          "output_type": "execute_result",
          "data": {
            "text/plain": [
              "(60000, 28, 28)"
            ]
          },
          "metadata": {},
          "execution_count": 8
        }
      ]
    },
    {
      "cell_type": "code",
      "metadata": {
        "id": "5ytkoT0yM8Us"
      },
      "source": [
        "x_train = np.expand_dims(x_train,-1)\n",
        "x_test = np.expand_dims(x_test,-1)"
      ],
      "execution_count": 9,
      "outputs": []
    },
    {
      "cell_type": "code",
      "metadata": {
        "colab": {
          "base_uri": "https://localhost:8080/"
        },
        "id": "35ldtnkSNDqs",
        "outputId": "e8d80594-2aa9-4ab2-aa36-6224b00980f2"
      },
      "source": [
        "x_train.shape"
      ],
      "execution_count": 10,
      "outputs": [
        {
          "output_type": "execute_result",
          "data": {
            "text/plain": [
              "(60000, 28, 28, 1)"
            ]
          },
          "metadata": {},
          "execution_count": 10
        }
      ]
    },
    {
      "cell_type": "code",
      "metadata": {
        "colab": {
          "base_uri": "https://localhost:8080/"
        },
        "id": "iLShDT2fNFjs",
        "outputId": "2ca3a650-bb05-4763-9254-44a18321c826"
      },
      "source": [
        "y_train.shape"
      ],
      "execution_count": 11,
      "outputs": [
        {
          "output_type": "execute_result",
          "data": {
            "text/plain": [
              "(60000,)"
            ]
          },
          "metadata": {},
          "execution_count": 11
        }
      ]
    },
    {
      "cell_type": "code",
      "metadata": {
        "colab": {
          "base_uri": "https://localhost:8080/"
        },
        "id": "2w1ZtNwlNHIg",
        "outputId": "e3488b2d-3563-48a4-b1af-e20f04b876cf"
      },
      "source": [
        "history = model.fit(x_train,\n",
        "                    y_train,\n",
        "                    batch_size=32,\n",
        "                    epochs=10,\n",
        "                    validation_data=(x_test,y_test))"
      ],
      "execution_count": 12,
      "outputs": [
        {
          "output_type": "stream",
          "name": "stdout",
          "text": [
            "Epoch 1/10\n",
            "1875/1875 [==============================] - 35s 4ms/step - loss: 1.3406 - acc: 0.8649 - val_loss: 0.2092 - val_acc: 0.9443\n",
            "Epoch 2/10\n",
            "1875/1875 [==============================] - 7s 4ms/step - loss: 0.1586 - acc: 0.9565 - val_loss: 0.1355 - val_acc: 0.9620\n",
            "Epoch 3/10\n",
            "1875/1875 [==============================] - 7s 4ms/step - loss: 0.1028 - acc: 0.9699 - val_loss: 0.0918 - val_acc: 0.9754\n",
            "Epoch 4/10\n",
            "1875/1875 [==============================] - 8s 4ms/step - loss: 0.0805 - acc: 0.9751 - val_loss: 0.0844 - val_acc: 0.9753\n",
            "Epoch 5/10\n",
            "1875/1875 [==============================] - 8s 4ms/step - loss: 0.0678 - acc: 0.9790 - val_loss: 0.0733 - val_acc: 0.9781\n",
            "Epoch 6/10\n",
            "1875/1875 [==============================] - 7s 4ms/step - loss: 0.0619 - acc: 0.9805 - val_loss: 0.0699 - val_acc: 0.9792\n",
            "Epoch 7/10\n",
            "1875/1875 [==============================] - 7s 4ms/step - loss: 0.0545 - acc: 0.9826 - val_loss: 0.0591 - val_acc: 0.9820\n",
            "Epoch 8/10\n",
            "1875/1875 [==============================] - 8s 4ms/step - loss: 0.0516 - acc: 0.9834 - val_loss: 0.0591 - val_acc: 0.9799\n",
            "Epoch 9/10\n",
            "1875/1875 [==============================] - 7s 4ms/step - loss: 0.0474 - acc: 0.9852 - val_loss: 0.0671 - val_acc: 0.9811\n",
            "Epoch 10/10\n",
            "1875/1875 [==============================] - 8s 4ms/step - loss: 0.0465 - acc: 0.9851 - val_loss: 0.0663 - val_acc: 0.9826\n"
          ]
        }
      ]
    },
    {
      "cell_type": "code",
      "metadata": {
        "colab": {
          "base_uri": "https://localhost:8080/"
        },
        "id": "6-lYJyKrNOa3",
        "outputId": "0443e437-cb51-4d19-a861-7b6d1f723de7"
      },
      "source": [
        "score = model.evaluate(x_test, y_test, verbose=0)\n",
        "print(f'Test loss: {score[0]} / Test accuracy: {score[1]}')"
      ],
      "execution_count": 13,
      "outputs": [
        {
          "output_type": "stream",
          "name": "stdout",
          "text": [
            "Test loss: 0.0662686675786972 / Test accuracy: 0.9825999736785889\n"
          ]
        }
      ]
    },
    {
      "cell_type": "code",
      "metadata": {
        "colab": {
          "base_uri": "https://localhost:8080/"
        },
        "id": "kDcDQcdVONuv",
        "outputId": "711ebae8-2361-4bee-b32f-39dbc222584a"
      },
      "source": [
        "history.history"
      ],
      "execution_count": 14,
      "outputs": [
        {
          "output_type": "execute_result",
          "data": {
            "text/plain": [
              "{'acc': [0.8649166822433472,\n",
              "  0.9564833045005798,\n",
              "  0.9698666930198669,\n",
              "  0.9750666618347168,\n",
              "  0.978950023651123,\n",
              "  0.9805166721343994,\n",
              "  0.982616662979126,\n",
              "  0.9834499955177307,\n",
              "  0.9852166771888733,\n",
              "  0.9850999712944031],\n",
              " 'loss': [1.3406327962875366,\n",
              "  0.1585901528596878,\n",
              "  0.1027633398771286,\n",
              "  0.08050589263439178,\n",
              "  0.06784972548484802,\n",
              "  0.06189301609992981,\n",
              "  0.05451247841119766,\n",
              "  0.051642801612615585,\n",
              "  0.04740207642316818,\n",
              "  0.04648922383785248],\n",
              " 'val_acc': [0.9442999958992004,\n",
              "  0.9620000123977661,\n",
              "  0.9753999710083008,\n",
              "  0.9753000140190125,\n",
              "  0.9781000018119812,\n",
              "  0.979200005531311,\n",
              "  0.9819999933242798,\n",
              "  0.9799000024795532,\n",
              "  0.9811000227928162,\n",
              "  0.9825999736785889],\n",
              " 'val_loss': [0.20924736559391022,\n",
              "  0.13549695909023285,\n",
              "  0.09175050258636475,\n",
              "  0.08444579690694809,\n",
              "  0.07334484159946442,\n",
              "  0.06989344209432602,\n",
              "  0.059144526720047,\n",
              "  0.059122998267412186,\n",
              "  0.06709012389183044,\n",
              "  0.0662686675786972]}"
            ]
          },
          "metadata": {},
          "execution_count": 14
        }
      ]
    },
    {
      "cell_type": "code",
      "metadata": {
        "colab": {
          "base_uri": "https://localhost:8080/",
          "height": 374
        },
        "id": "SgAxThpCOf9k",
        "outputId": "27f4eeb1-1ada-4e7d-eccc-8599e59e9eee"
      },
      "source": [
        "import matplotlib.pyplot as plt\n",
        "\n",
        "fig, ax = plt.subplots(figsize=(10,6))\n",
        "gen = ax.plot(history.history['val_acc'], label='Validation Accuracy')\n",
        "fr = ax.plot(history.history['acc'],dashes=[5, 2], label='Training Accuracy')\n",
        "\n",
        "legend = ax.legend(loc='lower center', shadow=True)\n",
        "\n",
        "plt.show()"
      ],
      "execution_count": 15,
      "outputs": [
        {
          "output_type": "display_data",
          "data": {
            "image/png": "[encoded data removed]",
            "text/plain": [
              "<Figure size 720x432 with 1 Axes>"
            ]
          },
          "metadata": {
            "needs_background": "light"
          }
        }
      ]
    },
    {
      "cell_type": "code",
      "metadata": {
        "id": "mYYZuNArOiqx"
      },
      "source": [
        "from keras.regularizers import l2\n",
        "\n",
        "# Set up model\n",
        "model = Sequential()\n",
        "\n",
        "# Add convolutional layer with 3, 3 by 3 filters and a stride size of 1\n",
        "# Set padding so that input size equals output size\n",
        "model.add(Conv2D(6,3,input_shape=img_shape, kernel_regularizer=l2(0.01)))\n",
        "# Add relu activation to the layer \n",
        "model.add(Activation('relu'))\n",
        "\n",
        "model.add(MaxPool2D(2))\n",
        "\n",
        "model.add(Conv2D(12,3,activity_regularizer=l2(0.01)))\n",
        "\n",
        "model.add(Activation('relu'))\n",
        "\n",
        "model.add(MaxPool2D(2))\n",
        "\n",
        "model.add(Flatten())\n",
        "\n",
        "model.add(Dense(10,bias_regularizer=l2(0.01)))\n",
        "\n",
        "model.add(Activation('softmax'))"
      ],
      "execution_count": 16,
      "outputs": []
    },
    {
      "cell_type": "code",
      "metadata": {
        "id": "En8OM1wETqIK"
      },
      "source": [
        "model.compile(loss='sparse_categorical_crossentropy', optimizer = 'adam', metrics=['acc'])"
      ],
      "execution_count": 17,
      "outputs": []
    },
    {
      "cell_type": "code",
      "metadata": {
        "colab": {
          "base_uri": "https://localhost:8080/"
        },
        "id": "rORN7166TsF1",
        "outputId": "ae47e778-206f-4f87-c15f-33db22fb4e83"
      },
      "source": [
        "history = model.fit(x_train,\n",
        "                    y_train,\n",
        "                    batch_size=32,\n",
        "                    epochs=10,\n",
        "                    validation_data=(x_test,y_test))"
      ],
      "execution_count": 18,
      "outputs": [
        {
          "output_type": "stream",
          "name": "stdout",
          "text": [
            "Epoch 1/10\n",
            "1875/1875 [==============================] - 9s 4ms/step - loss: 81.3199 - acc: 0.5967 - val_loss: 1.8894 - val_acc: 0.7077\n",
            "Epoch 2/10\n",
            "1875/1875 [==============================] - 8s 4ms/step - loss: 1.5655 - acc: 0.7459 - val_loss: 1.2630 - val_acc: 0.7956\n",
            "Epoch 3/10\n",
            "1875/1875 [==============================] - 8s 4ms/step - loss: 1.0980 - acc: 0.8149 - val_loss: 0.8988 - val_acc: 0.8559\n",
            "Epoch 4/10\n",
            "1875/1875 [==============================] - 8s 4ms/step - loss: 0.7943 - acc: 0.8637 - val_loss: 0.6571 - val_acc: 0.8912\n",
            "Epoch 5/10\n",
            "1875/1875 [==============================] - 8s 4ms/step - loss: 0.6131 - acc: 0.8910 - val_loss: 0.5255 - val_acc: 0.9085\n",
            "Epoch 6/10\n",
            "1875/1875 [==============================] - 8s 4ms/step - loss: 0.4936 - acc: 0.9104 - val_loss: 0.4204 - val_acc: 0.9261\n",
            "Epoch 7/10\n",
            "1875/1875 [==============================] - 8s 4ms/step - loss: 0.3992 - acc: 0.9268 - val_loss: 0.3430 - val_acc: 0.9382\n",
            "Epoch 8/10\n",
            "1875/1875 [==============================] - 8s 4ms/step - loss: 0.3492 - acc: 0.9329 - val_loss: 0.3079 - val_acc: 0.9446\n",
            "Epoch 9/10\n",
            "1875/1875 [==============================] - 8s 4ms/step - loss: 0.3074 - acc: 0.9404 - val_loss: 0.2938 - val_acc: 0.9445\n",
            "Epoch 10/10\n",
            "1875/1875 [==============================] - 8s 4ms/step - loss: 0.2729 - acc: 0.9471 - val_loss: 0.2521 - val_acc: 0.9533\n"
          ]
        }
      ]
    },
    {
      "cell_type": "code",
      "metadata": {
        "colab": {
          "base_uri": "https://localhost:8080/",
          "height": 374
        },
        "id": "m8tybBfpUUfz",
        "outputId": "cb674725-5422-48a5-9def-d2e65071a5a4"
      },
      "source": [
        "fig, ax = plt.subplots(figsize=(10,6))\n",
        "gen = ax.plot(history.history['val_acc'], label='Validation Accuracy')\n",
        "fr = ax.plot(history.history['acc'],dashes=[5, 2], label='Training Accuracy')\n",
        "\n",
        "legend = ax.legend(loc='lower center', shadow=True)\n",
        "\n",
        "plt.show()"
      ],
      "execution_count": 19,
      "outputs": [
        {
          "output_type": "display_data",
          "data": {
            "image/png": "[encoded data removed]",
            "text/plain": [
              "<Figure size 720x432 with 1 Axes>"
            ]
          },
          "metadata": {
            "needs_background": "light"
          }
        }
      ]
    },
    {
      "cell_type": "code",
      "metadata": {
        "id": "qvR6O6NwUahb"
      },
      "source": [
        "from keras.layers import Dropout\n",
        "\n",
        "\n",
        "model = Sequential()\n",
        "\n",
        "\n",
        "model.add(Conv2D(6,3,input_shape=img_shape))\n",
        "model.add(Activation('relu'))\n",
        "model.add(MaxPool2D(2))\n",
        "\n",
        "model.add(Dropout(0.2))\n",
        "\n",
        "model.add(Conv2D(12,3))\n",
        "model.add(Activation('relu'))\n",
        "model.add(MaxPool2D(2))\n",
        "\n",
        "model.add(Dropout(0.2))\n",
        "\n",
        "model.add(Flatten())\n",
        "\n",
        "model.add(Dense(10,bias_regularizer=l2(0.01)))\n",
        "\n",
        "model.add(Activation('softmax'))"
      ],
      "execution_count": 20,
      "outputs": []
    },
    {
      "cell_type": "code",
      "metadata": {
        "id": "XuElZ4VbUbZB"
      },
      "source": [
        "model.compile(loss='sparse_categorical_crossentropy', optimizer = 'adam', metrics=['acc'])"
      ],
      "execution_count": 21,
      "outputs": []
    },
    {
      "cell_type": "code",
      "metadata": {
        "colab": {
          "base_uri": "https://localhost:8080/"
        },
        "id": "pWC_NTFvUdRU",
        "outputId": "2758ac1e-786a-4dfa-f379-d3542740d4b7"
      },
      "source": [
        "history = model.fit(x_train,\n",
        "                    y_train,\n",
        "                    batch_size=32,\n",
        "                    epochs=10,\n",
        "                    validation_data=(x_test,y_test))"
      ],
      "execution_count": 22,
      "outputs": [
        {
          "output_type": "stream",
          "name": "stdout",
          "text": [
            "Epoch 1/10\n",
            "1875/1875 [==============================] - 9s 5ms/step - loss: 3.6136 - acc: 0.6799 - val_loss: 0.3407 - val_acc: 0.8988\n",
            "Epoch 2/10\n",
            "1875/1875 [==============================] - 9s 5ms/step - loss: 0.4237 - acc: 0.8690 - val_loss: 0.1946 - val_acc: 0.9414\n",
            "Epoch 3/10\n",
            "1875/1875 [==============================] - 8s 4ms/step - loss: 0.2719 - acc: 0.9159 - val_loss: 0.1264 - val_acc: 0.9602\n",
            "Epoch 4/10\n",
            "1875/1875 [==============================] - 8s 4ms/step - loss: 0.2003 - acc: 0.9379 - val_loss: 0.1160 - val_acc: 0.9632\n",
            "Epoch 5/10\n",
            "1875/1875 [==============================] - 8s 4ms/step - loss: 0.1695 - acc: 0.9462 - val_loss: 0.0786 - val_acc: 0.9752\n",
            "Epoch 6/10\n",
            "1875/1875 [==============================] - 8s 4ms/step - loss: 0.1489 - acc: 0.9539 - val_loss: 0.0758 - val_acc: 0.9755\n",
            "Epoch 7/10\n",
            "1875/1875 [==============================] - 8s 4ms/step - loss: 0.1394 - acc: 0.9559 - val_loss: 0.0702 - val_acc: 0.9776\n",
            "Epoch 8/10\n",
            "1875/1875 [==============================] - 9s 5ms/step - loss: 0.1349 - acc: 0.9570 - val_loss: 0.0661 - val_acc: 0.9783\n",
            "Epoch 9/10\n",
            "1875/1875 [==============================] - 8s 4ms/step - loss: 0.1270 - acc: 0.9596 - val_loss: 0.0682 - val_acc: 0.9780\n",
            "Epoch 10/10\n",
            "1875/1875 [==============================] - 8s 4ms/step - loss: 0.1230 - acc: 0.9617 - val_loss: 0.0639 - val_acc: 0.9774\n"
          ]
        }
      ]
    },
    {
      "cell_type": "code",
      "metadata": {
        "colab": {
          "base_uri": "https://localhost:8080/",
          "height": 374
        },
        "id": "zkq8XWEeU02g",
        "outputId": "ed2e008d-1229-43ba-d79e-cc1dae9e0fbc"
      },
      "source": [
        "import matplotlib.pyplot as plt\n",
        "\n",
        "fig, ax = plt.subplots(figsize=(10,6))\n",
        "gen = ax.plot(history.history['val_acc'], label='Validation Accuracy')\n",
        "fr = ax.plot(history.history['acc'],dashes=[5, 2], label='Training Accuracy')\n",
        "\n",
        "legend = ax.legend(loc='lower center', shadow=True)\n",
        "\n",
        "plt.show()"
      ],
      "execution_count": 23,
      "outputs": [
        {
          "output_type": "display_data",
          "data": {
            "image/png": "[encoded data removed]",
            "text/plain": [
              "<Figure size 720x432 with 1 Axes>"
            ]
          },
          "metadata": {
            "needs_background": "light"
          }
        }
      ]
    },
    {
      "cell_type": "code",
      "metadata": {
        "id": "RkQiuOTwUkxQ"
      },
      "source": [
        "from keras.layers import BatchNormalization\n",
        "model = Sequential()\n",
        "\n",
        "\n",
        "model.add(Conv2D(6,3,input_shape=img_shape))\n",
        "model.add(Activation('relu'))\n",
        "model.add(MaxPool2D(2))\n",
        "model.add(BatchNormalization())\n",
        "model.add(Dropout(0.2))\n",
        "\n",
        "model.add(Conv2D(12,3))\n",
        "model.add(Activation('relu'))\n",
        "model.add(MaxPool2D(2))\n",
        "model.add(BatchNormalization())\n",
        "model.add(Dropout(0.2))\n",
        "\n",
        "model.add(Flatten())\n",
        "\n",
        "model.add(Dense(10,bias_regularizer=l2(0.01)))\n",
        "\n",
        "model.add(Activation('softmax'))\n"
      ],
      "execution_count": 24,
      "outputs": []
    },
    {
      "cell_type": "code",
      "metadata": {
        "id": "zpGoJip6Uy_m"
      },
      "source": [
        "model.compile(loss='sparse_categorical_crossentropy', optimizer = 'adam', metrics=['acc'])"
      ],
      "execution_count": 25,
      "outputs": []
    },
    {
      "cell_type": "code",
      "metadata": {
        "colab": {
          "base_uri": "https://localhost:8080/"
        },
        "id": "gHlO4lCUU8g4",
        "outputId": "64e64354-bb8a-44e8-889f-538aa01b09c4"
      },
      "source": [
        "history = model.fit(x_train,\n",
        "                    y_train,\n",
        "                    batch_size=32,\n",
        "                    epochs=10,\n",
        "                    validation_data=(x_test,y_test))"
      ],
      "execution_count": 26,
      "outputs": [
        {
          "output_type": "stream",
          "name": "stdout",
          "text": [
            "Epoch 1/10\n",
            "1875/1875 [==============================] - 10s 5ms/step - loss: 0.3053 - acc: 0.9043 - val_loss: 0.0875 - val_acc: 0.9713\n",
            "Epoch 2/10\n",
            "1875/1875 [==============================] - 9s 5ms/step - loss: 0.1295 - acc: 0.9592 - val_loss: 0.0682 - val_acc: 0.9780\n",
            "Epoch 3/10\n",
            "1875/1875 [==============================] - 9s 5ms/step - loss: 0.1102 - acc: 0.9654 - val_loss: 0.0720 - val_acc: 0.9745\n",
            "Epoch 4/10\n",
            "1875/1875 [==============================] - 9s 5ms/step - loss: 0.1020 - acc: 0.9679 - val_loss: 0.0683 - val_acc: 0.9768\n",
            "Epoch 5/10\n",
            "1875/1875 [==============================] - 9s 5ms/step - loss: 0.0947 - acc: 0.9703 - val_loss: 0.0584 - val_acc: 0.9792\n",
            "Epoch 6/10\n",
            "1875/1875 [==============================] - 9s 5ms/step - loss: 0.0904 - acc: 0.9714 - val_loss: 0.0514 - val_acc: 0.9820\n",
            "Epoch 7/10\n",
            "1875/1875 [==============================] - 9s 5ms/step - loss: 0.0882 - acc: 0.9732 - val_loss: 0.0498 - val_acc: 0.9825\n",
            "Epoch 8/10\n",
            "1875/1875 [==============================] - 9s 5ms/step - loss: 0.0865 - acc: 0.9725 - val_loss: 0.0525 - val_acc: 0.9819\n",
            "Epoch 9/10\n",
            "1875/1875 [==============================] - 9s 5ms/step - loss: 0.0836 - acc: 0.9737 - val_loss: 0.0485 - val_acc: 0.9840\n",
            "Epoch 10/10\n",
            "1875/1875 [==============================] - 9s 5ms/step - loss: 0.0802 - acc: 0.9746 - val_loss: 0.0479 - val_acc: 0.9836\n"
          ]
        }
      ]
    },
    {
      "cell_type": "code",
      "metadata": {
        "colab": {
          "base_uri": "https://localhost:8080/",
          "height": 374
        },
        "id": "W_RDC1FbU--b",
        "outputId": "9a38cdb5-de17-490d-d4d9-8c40f0c73138"
      },
      "source": [
        "import matplotlib.pyplot as plt\n",
        "\n",
        "fig, ax = plt.subplots(figsize=(10,6))\n",
        "gen = ax.plot(history.history['val_acc'], label='Validation Accuracy')\n",
        "fr = ax.plot(history.history['acc'],dashes=[5, 2], label='Training Accuracy')\n",
        "\n",
        "legend = ax.legend(loc='lower center', shadow=True)\n",
        "\n",
        "plt.show()"
      ],
      "execution_count": 27,
      "outputs": [
        {
          "output_type": "display_data",
          "data": {
            "image/png": "[encoded data removed]",
            "text/plain": [
              "<Figure size 720x432 with 1 Axes>"
            ]
          },
          "metadata": {
            "needs_background": "light"
          }
        }
      ]
    },
    {
      "cell_type": "code",
      "metadata": {
        "id": "_ZbN29KfVkQd"
      },
      "source": [
        ""
      ],
      "execution_count": null,
      "outputs": []
    }
  ]
}